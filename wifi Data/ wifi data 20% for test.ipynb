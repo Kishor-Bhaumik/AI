{
 "cells": [
  {
   "cell_type": "code",
   "execution_count": 10,
   "metadata": {},
   "outputs": [],
   "source": [
    "import pandas as pd\n",
    "import torch\n",
    "import numpy as np\n",
    "import torch.utils.data\n",
    "import torch.nn as nn\n",
    "from pandas import read_csv\n",
    "import torch.nn.functional as F\n",
    "from sklearn.model_selection import train_test_split\n",
    "from sklearn.metrics import accuracy_score,recall_score,precision_score,f1_score\n"
   ]
  },
  {
   "cell_type": "code",
   "execution_count": 11,
   "metadata": {},
   "outputs": [],
   "source": [
    "def load_file(filepath):\n",
    "    dataframe = read_csv(filepath, header=None, delim_whitespace=True)\n",
    "    return dataframe.values\n",
    "\n",
    "data = load_file('wifi_localization.txt')\n",
    "\n",
    "df = pd.DataFrame(data)\n",
    "\n",
    "\n",
    "colname = df.columns[df.shape[1]-1]\n",
    "x=df.drop(colname , axis=1).values\n",
    "y=df[colname]\n",
    "\n",
    "X_train, X_test, y_train, y_test = train_test_split(x, y, test_size=0.20)\n",
    "\n",
    "\n",
    "X_train = torch.from_numpy(X_train)\n",
    "X_test=torch.from_numpy(X_test)\n",
    "\n",
    "y_train=torch.Tensor(np.array(y_train))\n",
    "y_test=torch.Tensor(np.array(y_test))\n",
    "\n",
    "\n",
    "\n",
    "for i in range(0,4):\n",
    "    y_train[y_train==i+1]=i\n",
    "    y_test[y_test==i+1]=i\n",
    "y_truee=y_test"
   ]
  },
  {
   "cell_type": "code",
   "execution_count": 12,
   "metadata": {},
   "outputs": [],
   "source": [
    "class Net(nn.Module):\n",
    "\n",
    "    def __init__(self):\n",
    "        super(Net, self).__init__()\n",
    "        self.l1 = nn.Linear(7, 50)\n",
    "        self.l2 = nn.Linear(50, 25)\n",
    "        self.l3 = nn.Linear(25, 4)\n",
    "\n",
    "    def forward(self, x):\n",
    "        x = F.relu(self.l1(x))\n",
    "        x = F.relu(self.l2(x))\n",
    "        return self.l3(x)\n",
    "\n",
    "\n",
    "model = Net()\n",
    "\n",
    "criterion = nn.CrossEntropyLoss()\n",
    "optimizer = torch.optim.SGD(model.parameters(), lr=0.01, momentum=0.5)\n"
   ]
  },
  {
   "cell_type": "code",
   "execution_count": 13,
   "metadata": {},
   "outputs": [],
   "source": [
    "counter=0\n",
    "\n",
    "batch_size=50\n",
    "lenth=len(X_train)/batch_size\n",
    "l=int(lenth)\n",
    "X_train=X_train.float()\n",
    "y_train=y_train.long()\n",
    "\n",
    "\n",
    "model.train()\n",
    "\n",
    "def train(X_train,y_train):\n",
    "    \n",
    "    for i in range(0,l):\n",
    "\n",
    "        X_t=X_train[(batch_size*i):(batch_size*i+batch_size)]\n",
    "        y_t=y_train[(batch_size*i):(batch_size*i+batch_size)]    \n",
    "\n",
    "        optimizer.zero_grad()\n",
    "        output=model(X_t)\n",
    "        loss = criterion(output, y_t)\n",
    "        loss.backward()\n",
    "        optimizer.step()\n",
    "\n",
    "\n",
    "\n",
    "    \n",
    "    \n"
   ]
  },
  {
   "cell_type": "code",
   "execution_count": 14,
   "metadata": {},
   "outputs": [
    {
     "name": "stdout",
     "output_type": "stream",
     "text": [
      "Accuracy 0.9225 Recall 0.9229834657897141 precision 0.9359903381642513 F score 0.9248490494834662\n"
     ]
    }
   ],
   "source": [
    "\n",
    "\n",
    "\n",
    "def test(X_test,y_test):\n",
    "    counter=1\n",
    "    test_loss=0\n",
    "\n",
    "    X_test=X_test.float()\n",
    "    y_test=y_test.long()\n",
    "\n",
    "    model.eval()\n",
    "\n",
    "    temp=torch.tensor([])\n",
    "    y_true=y_truee.cpu().detach().numpy()\n",
    "\n",
    "\n",
    "    output=model(X_test)\n",
    "\n",
    "    q=F.softmax(output,dim=1)\n",
    "    qa=F.softmax(q,dim=1)\n",
    "    aba=qa.cpu().detach().numpy()\n",
    "    y_pred=np.argmax(aba,axis=1)\n",
    "    acc=accuracy_score(y_test,y_pred)\n",
    "    recall=recall_score(y_test,y_pred,average='macro')\n",
    "    prec=precision_score(y_test,y_pred,average='macro')\n",
    "    f1=f1_score(y_test,y_pred,average='macro')\n",
    "    print(\"Accuracy {} Recall {} precision {} F score {}\".format (acc,recall,prec,f1))\n",
    "\n",
    "        \n",
    "for i in range(0,40):\n",
    "    train(X_train,y_train)\n",
    "test(X_test,y_test) "
   ]
  }
 ],
 "metadata": {
  "kernelspec": {
   "display_name": "Python 3",
   "language": "python",
   "name": "python3"
  },
  "language_info": {
   "codemirror_mode": {
    "name": "ipython",
    "version": 3
   },
   "file_extension": ".py",
   "mimetype": "text/x-python",
   "name": "python",
   "nbconvert_exporter": "python",
   "pygments_lexer": "ipython3",
   "version": "3.7.3"
  }
 },
 "nbformat": 4,
 "nbformat_minor": 2
}
